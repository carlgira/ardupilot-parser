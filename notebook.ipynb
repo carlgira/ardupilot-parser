{
 "cells": [
  {
   "cell_type": "code",
   "execution_count": 4,
   "id": "15d3aa67-7c0c-44cb-af3a-0bb4b4f3cfca",
   "metadata": {},
   "outputs": [],
   "source": [
    "%%capture\n",
    "from ardupilot import ArduPilot\n",
    "\n",
    "# TLOG file\n",
    "streamer = ArduPilot()\n",
    "streamer.read_tlog('data/Oracle-flight-2_1-8-2023.tlog')\n",
    "\n",
    "# BIN file\n",
    "streamer_bin = ArduPilot()\n",
    "streamer_bin.read_tlog('data/Oracle-flight-2_1-8-2023.bin')"
   ]
  }
 ],
 "metadata": {
  "kernelspec": {
   "display_name": "Python 3 (ipykernel)",
   "language": "python",
   "name": "python3"
  },
  "language_info": {
   "codemirror_mode": {
    "name": "ipython",
    "version": 3
   },
   "file_extension": ".py",
   "mimetype": "text/x-python",
   "name": "python",
   "nbconvert_exporter": "python",
   "pygments_lexer": "ipython3",
   "version": "3.11.3"
  }
 },
 "nbformat": 4,
 "nbformat_minor": 5
}
